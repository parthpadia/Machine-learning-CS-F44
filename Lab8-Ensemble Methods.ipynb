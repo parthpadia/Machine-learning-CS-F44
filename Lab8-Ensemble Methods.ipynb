{
 "cells": [
  {
   "cell_type": "markdown",
   "metadata": {},
   "source": [
    "# Ensemble Methods"
   ]
  },
  {
   "cell_type": "markdown",
   "metadata": {},
   "source": [
    "So far we have learnt how to create a classifier and use a range of preprocessing methods and hyperparameter tuning techniques to improve our accuracy or prediction. In this lab, we shall look at some ensemble techniques which combine multiple classifiers to achieve better results.\n",
    "\n",
    "- Bagging\n",
    "- Boosting\n",
    "- Stacking"
   ]
  },
  {
   "cell_type": "code",
   "execution_count": 1,
   "metadata": {
    "ExecuteTime": {
     "end_time": "2019-10-16T09:51:21.165784Z",
     "start_time": "2019-10-16T09:51:19.953004Z"
    }
   },
   "outputs": [],
   "source": [
    "import warnings\n",
    "warnings.filterwarnings(\"ignore\")\n",
    "import numpy as np\n",
    "import pandas as pd\n",
    "import sklearn\n",
    "from matplotlib import pyplot as plt\n",
    "%matplotlib inline\n",
    "import seaborn as sns"
   ]
  },
  {
   "cell_type": "markdown",
   "metadata": {},
   "source": [
    "## Loading Dataset"
   ]
  },
  {
   "cell_type": "code",
   "execution_count": 2,
   "metadata": {
    "ExecuteTime": {
     "end_time": "2019-10-16T09:51:21.196703Z",
     "start_time": "2019-10-16T09:51:21.168752Z"
    }
   },
   "outputs": [
    {
     "name": "stdout",
     "output_type": "stream",
     "text": [
      "<class 'pandas.core.frame.DataFrame'>\n",
      "RangeIndex: 120 entries, 0 to 119\n",
      "Data columns (total 11 columns):\n",
      "id           120 non-null int64\n",
      "chem_0       120 non-null float64\n",
      "chem_1       120 non-null float64\n",
      "chem_2       120 non-null float64\n",
      "chem_3       120 non-null float64\n",
      "chem_4       120 non-null float64\n",
      "chem_5       120 non-null float64\n",
      "chem_6       120 non-null float64\n",
      "chem_7       120 non-null float64\n",
      "attribute    120 non-null float64\n",
      "class        120 non-null int64\n",
      "dtypes: float64(9), int64(2)\n",
      "memory usage: 10.4 KB\n"
     ]
    }
   ],
   "source": [
    "df = pd.read_csv('train.csv')\n",
    "df.info()"
   ]
  },
  {
   "cell_type": "code",
   "execution_count": 3,
   "metadata": {
    "ExecuteTime": {
     "end_time": "2019-10-16T09:51:21.219615Z",
     "start_time": "2019-10-16T09:51:21.198671Z"
    }
   },
   "outputs": [
    {
     "data": {
      "text/html": [
       "<div>\n",
       "<style scoped>\n",
       "    .dataframe tbody tr th:only-of-type {\n",
       "        vertical-align: middle;\n",
       "    }\n",
       "\n",
       "    .dataframe tbody tr th {\n",
       "        vertical-align: top;\n",
       "    }\n",
       "\n",
       "    .dataframe thead th {\n",
       "        text-align: right;\n",
       "    }\n",
       "</style>\n",
       "<table border=\"1\" class=\"dataframe\">\n",
       "  <thead>\n",
       "    <tr style=\"text-align: right;\">\n",
       "      <th></th>\n",
       "      <th>id</th>\n",
       "      <th>chem_0</th>\n",
       "      <th>chem_1</th>\n",
       "      <th>chem_2</th>\n",
       "      <th>chem_3</th>\n",
       "      <th>chem_4</th>\n",
       "      <th>chem_5</th>\n",
       "      <th>chem_6</th>\n",
       "      <th>chem_7</th>\n",
       "      <th>attribute</th>\n",
       "      <th>class</th>\n",
       "    </tr>\n",
       "  </thead>\n",
       "  <tbody>\n",
       "    <tr>\n",
       "      <th>0</th>\n",
       "      <td>80</td>\n",
       "      <td>4.21</td>\n",
       "      <td>3.82</td>\n",
       "      <td>1.1</td>\n",
       "      <td>11.77</td>\n",
       "      <td>4.7</td>\n",
       "      <td>0.0</td>\n",
       "      <td>0.0</td>\n",
       "      <td>9.57</td>\n",
       "      <td>2.213</td>\n",
       "      <td>1</td>\n",
       "    </tr>\n",
       "    <tr>\n",
       "      <th>1</th>\n",
       "      <td>81</td>\n",
       "      <td>3.71</td>\n",
       "      <td>3.93</td>\n",
       "      <td>5.4</td>\n",
       "      <td>11.81</td>\n",
       "      <td>15.4</td>\n",
       "      <td>1.5</td>\n",
       "      <td>0.0</td>\n",
       "      <td>8.21</td>\n",
       "      <td>1.800</td>\n",
       "      <td>2</td>\n",
       "    </tr>\n",
       "    <tr>\n",
       "      <th>2</th>\n",
       "      <td>32</td>\n",
       "      <td>5.79</td>\n",
       "      <td>1.83</td>\n",
       "      <td>3.1</td>\n",
       "      <td>10.43</td>\n",
       "      <td>13.1</td>\n",
       "      <td>0.0</td>\n",
       "      <td>16.8</td>\n",
       "      <td>8.61</td>\n",
       "      <td>2.365</td>\n",
       "      <td>7</td>\n",
       "    </tr>\n",
       "    <tr>\n",
       "      <th>3</th>\n",
       "      <td>170</td>\n",
       "      <td>2.87</td>\n",
       "      <td>3.56</td>\n",
       "      <td>6.5</td>\n",
       "      <td>13.14</td>\n",
       "      <td>16.4</td>\n",
       "      <td>0.0</td>\n",
       "      <td>0.0</td>\n",
       "      <td>7.99</td>\n",
       "      <td>1.674</td>\n",
       "      <td>2</td>\n",
       "    </tr>\n",
       "    <tr>\n",
       "      <th>4</th>\n",
       "      <td>48</td>\n",
       "      <td>2.84</td>\n",
       "      <td>3.50</td>\n",
       "      <td>5.6</td>\n",
       "      <td>13.27</td>\n",
       "      <td>11.4</td>\n",
       "      <td>0.0</td>\n",
       "      <td>0.0</td>\n",
       "      <td>8.55</td>\n",
       "      <td>1.747</td>\n",
       "      <td>1</td>\n",
       "    </tr>\n",
       "  </tbody>\n",
       "</table>\n",
       "</div>"
      ],
      "text/plain": [
       "    id  chem_0  chem_1  chem_2  chem_3  chem_4  chem_5  chem_6  chem_7  \\\n",
       "0   80    4.21    3.82     1.1   11.77     4.7     0.0     0.0    9.57   \n",
       "1   81    3.71    3.93     5.4   11.81    15.4     1.5     0.0    8.21   \n",
       "2   32    5.79    1.83     3.1   10.43    13.1     0.0    16.8    8.61   \n",
       "3  170    2.87    3.56     6.5   13.14    16.4     0.0     0.0    7.99   \n",
       "4   48    2.84    3.50     5.6   13.27    11.4     0.0     0.0    8.55   \n",
       "\n",
       "   attribute  class  \n",
       "0      2.213      1  \n",
       "1      1.800      2  \n",
       "2      2.365      7  \n",
       "3      1.674      2  \n",
       "4      1.747      1  "
      ]
     },
     "execution_count": 3,
     "metadata": {},
     "output_type": "execute_result"
    }
   ],
   "source": [
    "df.head()"
   ]
  },
  {
   "cell_type": "markdown",
   "metadata": {
    "collapsed": true
   },
   "source": [
    "## Splitting the dataset\n",
    "\n",
    "Split dataset into train and validation sets"
   ]
  },
  {
   "cell_type": "code",
   "execution_count": 12,
   "metadata": {
    "ExecuteTime": {
     "end_time": "2019-10-16T09:51:22.016508Z",
     "start_time": "2019-10-16T09:51:21.985592Z"
    }
   },
   "outputs": [],
   "source": [
    "from sklearn.model_selection import train_test_split\n",
    "\n",
    "X_train, X_val, y_train, y_val = train_test_split(X, y, test_size=0.3, random_state=1)"
   ]
  },
  {
   "cell_type": "markdown",
   "metadata": {},
   "source": [
    "## Model Creation and Evaluation\n",
    "\n",
    "Create a classifier and train it."
   ]
  },
  {
   "cell_type": "code",
   "execution_count": null,
   "metadata": {
    "ExecuteTime": {
     "end_time": "2019-10-16T09:51:22.145164Z",
     "start_time": "2019-10-16T09:51:19.980Z"
    }
   },
   "outputs": [],
   "source": [
    "clf = None"
   ]
  },
  {
   "cell_type": "markdown",
   "metadata": {},
   "source": [
    "Generate predictions on the validation data and print the accuracy of the model on it."
   ]
  },
  {
   "cell_type": "code",
   "execution_count": null,
   "metadata": {
    "ExecuteTime": {
     "end_time": "2019-10-16T09:51:22.147160Z",
     "start_time": "2019-10-16T09:51:19.983Z"
    }
   },
   "outputs": [],
   "source": [
    "y_pred = None\n",
    "accuracy = None\n",
    "\n",
    "print(accuracy)"
   ]
  },
  {
   "cell_type": "markdown",
   "metadata": {},
   "source": [
    "How were the results? We will now try to use some additional techniques to improve the accuracy."
   ]
  },
  {
   "cell_type": "markdown",
   "metadata": {},
   "source": [
    "## Bagging\n",
    "\n",
    "Use the BaggingClassifier from sklearn as a model, and let the base estimator be the model you previously used. Generate the new accuracy."
   ]
  },
  {
   "cell_type": "code",
   "execution_count": null,
   "metadata": {
    "ExecuteTime": {
     "end_time": "2019-10-16T09:51:22.148158Z",
     "start_time": "2019-10-16T09:51:19.987Z"
    }
   },
   "outputs": [],
   "source": [
    "#BaggingClassifier\n",
    "from sklearn.ensemble import BaggingClassifier\n",
    "\n",
    "bag_clf = None\n",
    "y_pred_bag = None\n",
    "bag_acc = None\n",
    "\n",
    "print(bag_acc)"
   ]
  },
  {
   "cell_type": "markdown",
   "metadata": {},
   "source": [
    "The RandomForest algorithm uses bagging on decision trees. Use the RandomForestClassifier from sklearn and print its accuracy."
   ]
  },
  {
   "cell_type": "code",
   "execution_count": null,
   "metadata": {
    "ExecuteTime": {
     "end_time": "2019-10-16T09:51:22.149155Z",
     "start_time": "2019-10-16T09:51:19.989Z"
    }
   },
   "outputs": [],
   "source": [
    "#RandomForestClassifier\n",
    "from sklearn.ensemble import RandomForestClassifier\n",
    "\n",
    "rf_clf = None\n",
    "y_pred_rf = None\n",
    "rf_acc = None\n",
    "\n",
    "print(rf_acc)"
   ]
  },
  {
   "cell_type": "markdown",
   "metadata": {},
   "source": [
    "## Boosting"
   ]
  },
  {
   "cell_type": "markdown",
   "metadata": {},
   "source": [
    "### Weight-based"
   ]
  },
  {
   "cell_type": "markdown",
   "metadata": {},
   "source": [
    "Use adaboost classifier to generate predictions on the validation data and print the accuracy."
   ]
  },
  {
   "cell_type": "code",
   "execution_count": null,
   "metadata": {
    "ExecuteTime": {
     "end_time": "2019-10-16T09:51:22.151149Z",
     "start_time": "2019-10-16T09:51:19.992Z"
    }
   },
   "outputs": [],
   "source": [
    "#AdaBoostClassifier\n",
    "from sklearn.ensemble import AdaBoostClassifier\n",
    "\n",
    "ab_clf = None\n",
    "y_pred_ab = None\n",
    "ab_acc = None\n",
    "\n",
    "print(ab_acc)"
   ]
  },
  {
   "cell_type": "markdown",
   "metadata": {},
   "source": [
    "### Residual-based"
   ]
  },
  {
   "cell_type": "markdown",
   "metadata": {},
   "source": [
    "Using gradient boosted decision trees from sklearn generate predictions and print the accuracy."
   ]
  },
  {
   "cell_type": "code",
   "execution_count": null,
   "metadata": {
    "ExecuteTime": {
     "end_time": "2019-10-16T09:51:22.152148Z",
     "start_time": "2019-10-16T09:51:19.995Z"
    },
    "scrolled": true
   },
   "outputs": [],
   "source": [
    "#GradientBoostingClassifier\n",
    "from sklearn.ensemble import GradientBoostingClassifier\n",
    "\n",
    "gb_clf = None\n",
    "y_pred_gb = None\n",
    "gb_acc = None\n",
    "\n",
    "print(gb_acc)"
   ]
  },
  {
   "cell_type": "markdown",
   "metadata": {},
   "source": [
    "Using the xgboost classifier, generate predictions on the validation data and print the new accuracy.\n",
    "\n",
    "You can use the following commands to install xgboost.\n",
    "\n",
    "`conda install -c conda-forge xgboost` (Linux and OSX)\n",
    "\n",
    "`conda install -c anaconda py-xgboost` (All)"
   ]
  },
  {
   "cell_type": "code",
   "execution_count": null,
   "metadata": {
    "ExecuteTime": {
     "end_time": "2019-10-16T09:51:22.154141Z",
     "start_time": "2019-10-16T09:51:19.998Z"
    }
   },
   "outputs": [],
   "source": [
    "#XGBClassifier\n",
    "from xgboost import XGBClassifier\n",
    "\n",
    "xgb_clf = None\n",
    "y_pred_xgb = None\n",
    "xgb_acc = None\n",
    "\n",
    "print(xgb_acc)"
   ]
  },
  {
   "cell_type": "markdown",
   "metadata": {},
   "source": [
    "## Stacking\n",
    "\n",
    "A few base models are used to predict the output. A meta model is trained on the outputs of these models"
   ]
  },
  {
   "cell_type": "markdown",
   "metadata": {},
   "source": [
    "We'll split the training dataset into two parts equally - A & B. The base models will be trained on A. Their predictions on B will be used to train a meta model."
   ]
  },
  {
   "cell_type": "code",
   "execution_count": null,
   "metadata": {
    "ExecuteTime": {
     "end_time": "2019-10-16T09:51:22.155140Z",
     "start_time": "2019-10-16T09:51:20.002Z"
    }
   },
   "outputs": [],
   "source": [
    "X_A = None\n",
    "y_A = None\n",
    "X_B = None\n",
    "y_B = None"
   ]
  },
  {
   "cell_type": "markdown",
   "metadata": {},
   "source": [
    "Train the base models on dataset A and generate predictions on dataset B"
   ]
  },
  {
   "cell_type": "code",
   "execution_count": null,
   "metadata": {
    "ExecuteTime": {
     "end_time": "2019-10-16T09:51:22.156136Z",
     "start_time": "2019-10-16T09:51:20.004Z"
    }
   },
   "outputs": [],
   "source": [
    "clf_1 = None\n",
    "y_pred_1 = None\n",
    "clf_2 = None\n",
    "y_pred_2 = None\n",
    "clf_3 = None\n",
    "y_pred_3 = None"
   ]
  },
  {
   "cell_type": "markdown",
   "metadata": {},
   "source": [
    "Create a new dataset C with predictions of base models on B"
   ]
  },
  {
   "cell_type": "code",
   "execution_count": null,
   "metadata": {
    "ExecuteTime": {
     "end_time": "2019-10-16T09:51:22.157133Z",
     "start_time": "2019-10-16T09:51:20.007Z"
    }
   },
   "outputs": [],
   "source": [
    "X_C = None\n",
    "y_C = None\n",
    "\n",
    "X_C.head()"
   ]
  },
  {
   "cell_type": "markdown",
   "metadata": {},
   "source": [
    "Combine predictions made by base models on validation set to create a dataset D"
   ]
  },
  {
   "cell_type": "code",
   "execution_count": null,
   "metadata": {
    "ExecuteTime": {
     "end_time": "2019-10-16T09:51:22.158130Z",
     "start_time": "2019-10-16T09:51:20.009Z"
    }
   },
   "outputs": [],
   "source": [
    "X_D = None\n",
    "y_D = None"
   ]
  },
  {
   "cell_type": "markdown",
   "metadata": {},
   "source": [
    "Train a meta model on C and print its accuracy on D."
   ]
  },
  {
   "cell_type": "code",
   "execution_count": null,
   "metadata": {
    "ExecuteTime": {
     "end_time": "2019-10-16T09:51:22.159131Z",
     "start_time": "2019-10-16T09:51:20.011Z"
    }
   },
   "outputs": [],
   "source": [
    "meta_clf = None\n",
    "y_pred_meta = None\n",
    "meta_acc = None\n",
    "\n",
    "print(meta_acc)"
   ]
  },
  {
   "cell_type": "markdown",
   "metadata": {},
   "source": [
    "## Majority Voting Techniques"
   ]
  },
  {
   "cell_type": "markdown",
   "metadata": {},
   "source": [
    "Instead of just using one classifier, you can gather predictions from different classifiers, and let them 'vote' for the most appropriate label. This can be done by using sklearn's VotingClassifier."
   ]
  },
  {
   "cell_type": "markdown",
   "metadata": {},
   "source": [
    "Use a list of different classifiers and instantiate a VotingClassifier. Create 2 such classifiers, one with hard voting, and one with soft voting."
   ]
  },
  {
   "cell_type": "code",
   "execution_count": null,
   "metadata": {
    "ExecuteTime": {
     "end_time": "2019-10-16T09:51:22.160125Z",
     "start_time": "2019-10-16T09:51:20.014Z"
    }
   },
   "outputs": [],
   "source": [
    "from sklearn.ensemble import VotingClassifier\n",
    "\n",
    "estimators = None\n",
    "\n",
    "soft_voter = None\n",
    "hard_voter = None"
   ]
  },
  {
   "cell_type": "markdown",
   "metadata": {},
   "source": [
    "Fit the voting classifiers, and generate the accuracies on the test data."
   ]
  },
  {
   "cell_type": "code",
   "execution_count": null,
   "metadata": {
    "ExecuteTime": {
     "end_time": "2019-10-16T09:51:22.161122Z",
     "start_time": "2019-10-16T09:51:20.018Z"
    }
   },
   "outputs": [],
   "source": [
    "soft_acc = None\n",
    "hard_acc = None\n",
    "\n",
    "print(\"Acc of soft voting classifier:{}\".format(soft_acc))\n",
    "print(\"Acc of hard voting classifier:{}\".format(hard_acc))"
   ]
  },
  {
   "cell_type": "markdown",
   "metadata": {},
   "source": [
    "Apply hyperparameter tuning on the voting classifier by trying different weights for the estimators."
   ]
  },
  {
   "cell_type": "code",
   "execution_count": null,
   "metadata": {
    "ExecuteTime": {
     "end_time": "2019-10-16T09:39:46.131902Z",
     "start_time": "2019-10-16T09:39:44.699721Z"
    }
   },
   "outputs": [],
   "source": []
  },
  {
   "cell_type": "code",
   "execution_count": null,
   "metadata": {},
   "outputs": [],
   "source": []
  }
 ],
 "metadata": {
  "kernelspec": {
   "display_name": "Python 3",
   "language": "python",
   "name": "python3"
  },
  "language_info": {
   "codemirror_mode": {
    "name": "ipython",
    "version": 3
   },
   "file_extension": ".py",
   "mimetype": "text/x-python",
   "name": "python",
   "nbconvert_exporter": "python",
   "pygments_lexer": "ipython3",
   "version": "3.7.3"
  },
  "toc": {
   "base_numbering": 1,
   "nav_menu": {},
   "number_sections": true,
   "sideBar": true,
   "skip_h1_title": false,
   "title_cell": "Table of Contents",
   "title_sidebar": "Contents",
   "toc_cell": false,
   "toc_position": {},
   "toc_section_display": true,
   "toc_window_display": false
  },
  "varInspector": {
   "cols": {
    "lenName": 16,
    "lenType": 16,
    "lenVar": 40
   },
   "kernels_config": {
    "python": {
     "delete_cmd_postfix": "",
     "delete_cmd_prefix": "del ",
     "library": "var_list.py",
     "varRefreshCmd": "print(var_dic_list())"
    },
    "r": {
     "delete_cmd_postfix": ") ",
     "delete_cmd_prefix": "rm(",
     "library": "var_list.r",
     "varRefreshCmd": "cat(var_dic_list()) "
    }
   },
   "types_to_exclude": [
    "module",
    "function",
    "builtin_function_or_method",
    "instance",
    "_Feature"
   ],
   "window_display": false
  }
 },
 "nbformat": 4,
 "nbformat_minor": 2
}
