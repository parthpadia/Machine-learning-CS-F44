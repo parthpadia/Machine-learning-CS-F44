{
 "cells": [
  {
   "cell_type": "markdown",
   "metadata": {},
   "source": [
    "# K Nearest Neighbors"
   ]
  },
  {
   "cell_type": "markdown",
   "metadata": {},
   "source": [
    "### Import Libraries"
   ]
  },
  {
   "cell_type": "code",
   "execution_count": 1,
   "metadata": {
    "ExecuteTime": {
     "end_time": "2019-09-09T23:33:18.388814Z",
     "start_time": "2019-09-09T23:33:16.118410Z"
    }
   },
   "outputs": [],
   "source": [
    "import pandas as pd\n",
    "import numpy as np\n",
    "from matplotlib import pyplot as plt\n",
    "import seaborn as sns\n",
    "%matplotlib inline"
   ]
  },
  {
   "cell_type": "markdown",
   "metadata": {},
   "source": [
    "## Task 1: Iris Dataset"
   ]
  },
  {
   "cell_type": "markdown",
   "metadata": {},
   "source": [
    "### Load Dataset"
   ]
  },
  {
   "cell_type": "code",
   "execution_count": 2,
   "metadata": {
    "ExecuteTime": {
     "end_time": "2019-09-09T23:33:18.941609Z",
     "start_time": "2019-09-09T23:33:18.390839Z"
    }
   },
   "outputs": [],
   "source": [
    "from sklearn import datasets\n",
    "iris = datasets.load_iris()\n",
    "# explore what is in variable iris"
   ]
  },
  {
   "cell_type": "code",
   "execution_count": 2,
   "metadata": {},
   "outputs": [],
   "source": [
    "df = pd.read_csv('test.csv')"
   ]
  },
  {
   "cell_type": "code",
   "execution_count": 3,
   "metadata": {},
   "outputs": [
    {
     "name": "stderr",
     "output_type": "stream",
     "text": [
      "/Users/parth/Anaconda/anaconda3/lib/python3.7/site-packages/pandas/core/generic.py:6130: SettingWithCopyWarning: \n",
      "A value is trying to be set on a copy of a slice from a DataFrame\n",
      "\n",
      "See the caveats in the documentation: http://pandas.pydata.org/pandas-docs/stable/indexing.html#indexing-view-versus-copy\n",
      "  self._update_inplace(new_data)\n"
     ]
    }
   ],
   "source": [
    "df = pd.get_dummies(df, columns=[\"type\"])\n",
    "features = ['feature1','feature2','feature3','feature4','feature5','feature6','feature7','feature8','feature9',\n",
    "            'feature10','feature11','type_new']\n",
    "X=df[features]\n",
    "X.fillna(X.mean(),inplace = True)"
   ]
  },
  {
   "cell_type": "code",
   "execution_count": 3,
   "metadata": {
    "ExecuteTime": {
     "end_time": "2019-09-09T23:33:18.947551Z",
     "start_time": "2019-09-09T23:33:18.943562Z"
    }
   },
   "outputs": [],
   "source": [
    "X_iris = iris.data\n",
    "y_iris = iris.target"
   ]
  },
  {
   "cell_type": "markdown",
   "metadata": {},
   "source": [
    "### Split dataset into train and test"
   ]
  },
  {
   "cell_type": "code",
   "execution_count": 5,
   "metadata": {
    "ExecuteTime": {
     "end_time": "2019-09-09T23:33:18.980536Z",
     "start_time": "2019-09-09T23:33:18.949545Z"
    }
   },
   "outputs": [],
   "source": [
    "from sklearn.model_selection import train_test_split\n",
    "\n",
    "X_train, X_test, y_train, y_test = train_test_split(X_iris, y_iris, test_size=.5)\n"
   ]
  },
  {
   "cell_type": "code",
   "execution_count": 11,
   "metadata": {
    "scrolled": true
   },
   "outputs": [
    {
     "data": {
      "text/plain": [
       "75"
      ]
     },
     "execution_count": 11,
     "metadata": {},
     "output_type": "execute_result"
    }
   ],
   "source": [
    "len(X_train)"
   ]
  },
  {
   "cell_type": "markdown",
   "metadata": {},
   "source": [
    "### Define KNN Algorithm"
   ]
  },
  {
   "cell_type": "code",
   "execution_count": 79,
   "metadata": {
    "ExecuteTime": {
     "end_time": "2019-09-09T23:33:18.990545Z",
     "start_time": "2019-09-09T23:33:18.983527Z"
    }
   },
   "outputs": [],
   "source": [
    "# Calculate euclidean distance between x1 and x2. You can assume both x1 and x2 are numpy arrays\n",
    "def distance(x1, x2):\n",
    "    c=0\n",
    "    for i in range(len(x1)):\n",
    "        c = c + (x1[i]-x2[i])**2\n",
    "    return c**0.5\n",
    "\n",
    "# Implement knn algorithm. Return majority label for given test_sample and k\n",
    "def knn(X_train, y_train, test_sample, k):\n",
    "    arr = []\n",
    "    for i in range(len(X_train)):\n",
    "        arr.append((distance(X_train[i],test_sample),y_train[i]))\n",
    "    arr.sort()\n",
    "    freq = [0,0,0]\n",
    "    for i in range(k):\n",
    "        freq[arr[i][1]] = freq[arr[i][1]] + 1\n",
    "    return freq.index(max(freq))\n",
    "# Return class of each test sample predicted by knn \n",
    "def predict(X_train, y_train, X_test, k):\n",
    "    a = []\n",
    "    for i in range(len(X_test)):\n",
    "        a.append(knn(X_train,y_train,X_test[i],k))\n",
    "    return a"
   ]
  },
  {
   "cell_type": "markdown",
   "metadata": {},
   "source": [
    "### Get results for k=3"
   ]
  },
  {
   "cell_type": "code",
   "execution_count": 54,
   "metadata": {
    "ExecuteTime": {
     "end_time": "2019-09-09T23:33:19.094481Z",
     "start_time": "2019-09-09T23:33:18.993499Z"
    }
   },
   "outputs": [],
   "source": [
    "y_pred = predict(X_train,y_train,X_test,3)"
   ]
  },
  {
   "cell_type": "code",
   "execution_count": 55,
   "metadata": {},
   "outputs": [
    {
     "data": {
      "text/plain": [
       "1"
      ]
     },
     "execution_count": 55,
     "metadata": {},
     "output_type": "execute_result"
    }
   ],
   "source": [
    "w=0\n",
    "for i in range(len(y_pred)):\n",
    "    if(y_pred[i]!=y_test[i]):\n",
    "        w=w+1\n",
    "w"
   ]
  },
  {
   "cell_type": "markdown",
   "metadata": {},
   "source": [
    "### Evaluate results"
   ]
  },
  {
   "cell_type": "code",
   "execution_count": 56,
   "metadata": {
    "ExecuteTime": {
     "end_time": "2019-09-09T23:33:19.107195Z",
     "start_time": "2019-09-09T23:33:19.097222Z"
    }
   },
   "outputs": [
    {
     "name": "stdout",
     "output_type": "stream",
     "text": [
      "0.9866666666666667\n",
      "[[27  0  0]\n",
      " [ 0 22  0]\n",
      " [ 0  1 25]]\n",
      "              precision    recall  f1-score   support\n",
      "\n",
      "           0       1.00      1.00      1.00        27\n",
      "           1       0.96      1.00      0.98        22\n",
      "           2       1.00      0.96      0.98        26\n",
      "\n",
      "    accuracy                           0.99        75\n",
      "   macro avg       0.99      0.99      0.99        75\n",
      "weighted avg       0.99      0.99      0.99        75\n",
      "\n"
     ]
    }
   ],
   "source": [
    "from sklearn.metrics import classification_report, confusion_matrix, accuracy_score\n",
    "print(accuracy_score(y_test,y_pred)) # accuracy_score\n",
    "print(confusion_matrix(y_test,y_pred)) # confusion_matrix\n",
    "print(classification_report(y_test,y_pred)) # classification_report"
   ]
  },
  {
   "cell_type": "markdown",
   "metadata": {
    "ExecuteTime": {
     "end_time": "2019-09-09T22:09:56.506725Z",
     "start_time": "2019-09-09T22:09:28.077772Z"
    }
   },
   "source": [
    "### Hyperparameter Tuning"
   ]
  },
  {
   "cell_type": "code",
   "execution_count": 57,
   "metadata": {
    "ExecuteTime": {
     "end_time": "2019-09-09T23:33:19.927073Z",
     "start_time": "2019-09-09T23:33:19.109189Z"
    }
   },
   "outputs": [
    {
     "name": "stdout",
     "output_type": "stream",
     "text": [
      "2 : 0.9733333333333334\n",
      "3 : 0.9866666666666667\n",
      "4 : 0.9866666666666667\n",
      "5 : 1.0\n",
      "6 : 0.9733333333333334\n",
      "7 : 0.9866666666666667\n",
      "8 : 0.9733333333333334\n",
      "9 : 1.0\n"
     ]
    }
   ],
   "source": [
    "for k in range(2,10):\n",
    "    print(k,':',accuracy_score(y_test,predict(X_train,y_train,X_test,k))) # predict for different k values and calculate accuracy_score"
   ]
  },
  {
   "cell_type": "markdown",
   "metadata": {},
   "source": [
    "## Task 2 : MNIST"
   ]
  },
  {
   "cell_type": "markdown",
   "metadata": {},
   "source": [
    "### Load Dataset"
   ]
  },
  {
   "cell_type": "code",
   "execution_count": 58,
   "metadata": {
    "ExecuteTime": {
     "end_time": "2019-09-09T23:33:22.860155Z",
     "start_time": "2019-09-09T23:33:19.928997Z"
    },
    "scrolled": true
   },
   "outputs": [
    {
     "data": {
      "text/html": [
       "<div>\n",
       "<style scoped>\n",
       "    .dataframe tbody tr th:only-of-type {\n",
       "        vertical-align: middle;\n",
       "    }\n",
       "\n",
       "    .dataframe tbody tr th {\n",
       "        vertical-align: top;\n",
       "    }\n",
       "\n",
       "    .dataframe thead th {\n",
       "        text-align: right;\n",
       "    }\n",
       "</style>\n",
       "<table border=\"1\" class=\"dataframe\">\n",
       "  <thead>\n",
       "    <tr style=\"text-align: right;\">\n",
       "      <th></th>\n",
       "      <th>label</th>\n",
       "      <th>pixel0</th>\n",
       "      <th>pixel1</th>\n",
       "      <th>pixel2</th>\n",
       "      <th>pixel3</th>\n",
       "      <th>pixel4</th>\n",
       "      <th>pixel5</th>\n",
       "      <th>pixel6</th>\n",
       "      <th>pixel7</th>\n",
       "      <th>pixel8</th>\n",
       "      <th>...</th>\n",
       "      <th>pixel774</th>\n",
       "      <th>pixel775</th>\n",
       "      <th>pixel776</th>\n",
       "      <th>pixel777</th>\n",
       "      <th>pixel778</th>\n",
       "      <th>pixel779</th>\n",
       "      <th>pixel780</th>\n",
       "      <th>pixel781</th>\n",
       "      <th>pixel782</th>\n",
       "      <th>pixel783</th>\n",
       "    </tr>\n",
       "  </thead>\n",
       "  <tbody>\n",
       "    <tr>\n",
       "      <th>0</th>\n",
       "      <td>1</td>\n",
       "      <td>0</td>\n",
       "      <td>0</td>\n",
       "      <td>0</td>\n",
       "      <td>0</td>\n",
       "      <td>0</td>\n",
       "      <td>0</td>\n",
       "      <td>0</td>\n",
       "      <td>0</td>\n",
       "      <td>0</td>\n",
       "      <td>...</td>\n",
       "      <td>0</td>\n",
       "      <td>0</td>\n",
       "      <td>0</td>\n",
       "      <td>0</td>\n",
       "      <td>0</td>\n",
       "      <td>0</td>\n",
       "      <td>0</td>\n",
       "      <td>0</td>\n",
       "      <td>0</td>\n",
       "      <td>0</td>\n",
       "    </tr>\n",
       "    <tr>\n",
       "      <th>1</th>\n",
       "      <td>0</td>\n",
       "      <td>0</td>\n",
       "      <td>0</td>\n",
       "      <td>0</td>\n",
       "      <td>0</td>\n",
       "      <td>0</td>\n",
       "      <td>0</td>\n",
       "      <td>0</td>\n",
       "      <td>0</td>\n",
       "      <td>0</td>\n",
       "      <td>...</td>\n",
       "      <td>0</td>\n",
       "      <td>0</td>\n",
       "      <td>0</td>\n",
       "      <td>0</td>\n",
       "      <td>0</td>\n",
       "      <td>0</td>\n",
       "      <td>0</td>\n",
       "      <td>0</td>\n",
       "      <td>0</td>\n",
       "      <td>0</td>\n",
       "    </tr>\n",
       "    <tr>\n",
       "      <th>2</th>\n",
       "      <td>1</td>\n",
       "      <td>0</td>\n",
       "      <td>0</td>\n",
       "      <td>0</td>\n",
       "      <td>0</td>\n",
       "      <td>0</td>\n",
       "      <td>0</td>\n",
       "      <td>0</td>\n",
       "      <td>0</td>\n",
       "      <td>0</td>\n",
       "      <td>...</td>\n",
       "      <td>0</td>\n",
       "      <td>0</td>\n",
       "      <td>0</td>\n",
       "      <td>0</td>\n",
       "      <td>0</td>\n",
       "      <td>0</td>\n",
       "      <td>0</td>\n",
       "      <td>0</td>\n",
       "      <td>0</td>\n",
       "      <td>0</td>\n",
       "    </tr>\n",
       "    <tr>\n",
       "      <th>3</th>\n",
       "      <td>4</td>\n",
       "      <td>0</td>\n",
       "      <td>0</td>\n",
       "      <td>0</td>\n",
       "      <td>0</td>\n",
       "      <td>0</td>\n",
       "      <td>0</td>\n",
       "      <td>0</td>\n",
       "      <td>0</td>\n",
       "      <td>0</td>\n",
       "      <td>...</td>\n",
       "      <td>0</td>\n",
       "      <td>0</td>\n",
       "      <td>0</td>\n",
       "      <td>0</td>\n",
       "      <td>0</td>\n",
       "      <td>0</td>\n",
       "      <td>0</td>\n",
       "      <td>0</td>\n",
       "      <td>0</td>\n",
       "      <td>0</td>\n",
       "    </tr>\n",
       "    <tr>\n",
       "      <th>4</th>\n",
       "      <td>0</td>\n",
       "      <td>0</td>\n",
       "      <td>0</td>\n",
       "      <td>0</td>\n",
       "      <td>0</td>\n",
       "      <td>0</td>\n",
       "      <td>0</td>\n",
       "      <td>0</td>\n",
       "      <td>0</td>\n",
       "      <td>0</td>\n",
       "      <td>...</td>\n",
       "      <td>0</td>\n",
       "      <td>0</td>\n",
       "      <td>0</td>\n",
       "      <td>0</td>\n",
       "      <td>0</td>\n",
       "      <td>0</td>\n",
       "      <td>0</td>\n",
       "      <td>0</td>\n",
       "      <td>0</td>\n",
       "      <td>0</td>\n",
       "    </tr>\n",
       "  </tbody>\n",
       "</table>\n",
       "<p>5 rows × 785 columns</p>\n",
       "</div>"
      ],
      "text/plain": [
       "   label  pixel0  pixel1  pixel2  pixel3  pixel4  pixel5  pixel6  pixel7  \\\n",
       "0      1       0       0       0       0       0       0       0       0   \n",
       "1      0       0       0       0       0       0       0       0       0   \n",
       "2      1       0       0       0       0       0       0       0       0   \n",
       "3      4       0       0       0       0       0       0       0       0   \n",
       "4      0       0       0       0       0       0       0       0       0   \n",
       "\n",
       "   pixel8  ...  pixel774  pixel775  pixel776  pixel777  pixel778  pixel779  \\\n",
       "0       0  ...         0         0         0         0         0         0   \n",
       "1       0  ...         0         0         0         0         0         0   \n",
       "2       0  ...         0         0         0         0         0         0   \n",
       "3       0  ...         0         0         0         0         0         0   \n",
       "4       0  ...         0         0         0         0         0         0   \n",
       "\n",
       "   pixel780  pixel781  pixel782  pixel783  \n",
       "0         0         0         0         0  \n",
       "1         0         0         0         0  \n",
       "2         0         0         0         0  \n",
       "3         0         0         0         0  \n",
       "4         0         0         0         0  \n",
       "\n",
       "[5 rows x 785 columns]"
      ]
     },
     "execution_count": 58,
     "metadata": {},
     "output_type": "execute_result"
    }
   ],
   "source": [
    "mnist = pd.read_csv('mnist.csv') # from mnist.csv\n",
    "mnist.head()"
   ]
  },
  {
   "cell_type": "code",
   "execution_count": 90,
   "metadata": {
    "ExecuteTime": {
     "end_time": "2019-09-09T23:33:22.914013Z",
     "start_time": "2019-09-09T23:33:22.862151Z"
    }
   },
   "outputs": [],
   "source": [
    "dataset = mnist.drop('label',axis=1)\n",
    "dval = mnist['label']"
   ]
  },
  {
   "cell_type": "code",
   "execution_count": 91,
   "metadata": {},
   "outputs": [
    {
     "data": {
      "text/plain": [
       "9"
      ]
     },
     "execution_count": 91,
     "metadata": {},
     "output_type": "execute_result"
    }
   ],
   "source": [
    "max(dval)"
   ]
  },
  {
   "cell_type": "code",
   "execution_count": 92,
   "metadata": {
    "ExecuteTime": {
     "end_time": "2019-09-09T23:33:23.064635Z",
     "start_time": "2019-09-09T23:33:22.916021Z"
    }
   },
   "outputs": [],
   "source": [
    "# Choose less than 5000 samples during the lab otherwise it'll take too much time to calculate distances\n",
    "X_mnist = dataset[1:101]\n",
    "y_mnist = dval[1:101]"
   ]
  },
  {
   "cell_type": "markdown",
   "metadata": {},
   "source": [
    "### Visualize the data"
   ]
  },
  {
   "cell_type": "code",
   "execution_count": 93,
   "metadata": {
    "ExecuteTime": {
     "end_time": "2019-09-09T23:33:23.215216Z",
     "start_time": "2019-09-09T23:33:23.067601Z"
    }
   },
   "outputs": [
    {
     "name": "stdout",
     "output_type": "stream",
     "text": [
      "6\n"
     ]
    },
    {
     "data": {
      "image/png": "[encoded data removed]",
      "text/plain": [
       "<Figure size 432x288 with 1 Axes>"
      ]
     },
     "metadata": {
      "needs_background": "light"
     },
     "output_type": "display_data"
    }
   ],
   "source": [
    "plt.imshow(X_mnist.iloc[90].values.reshape((28, 28)), cmap='gray')\n",
    "print(y_mnist.iloc[90])"
   ]
  },
  {
   "cell_type": "markdown",
   "metadata": {},
   "source": [
    "### Split dataset into train and test"
   ]
  },
  {
   "cell_type": "code",
   "execution_count": 94,
   "metadata": {
    "ExecuteTime": {
     "end_time": "2019-09-09T23:33:23.327930Z",
     "start_time": "2019-09-09T23:33:23.217203Z"
    }
   },
   "outputs": [],
   "source": [
    "from sklearn.model_selection import train_test_split\n",
    "\n",
    "X_train, X_test, y_train, y_test = train_test_split(X_mnist, y_mnist, test_size=.5)\n"
   ]
  },
  {
   "cell_type": "markdown",
   "metadata": {
    "ExecuteTime": {
     "end_time": "2019-09-09T23:15:00.329721Z",
     "start_time": "2019-09-09T23:15:00.325719Z"
    }
   },
   "source": [
    "### Modify KNN algorithm to include hyperparameter tuning"
   ]
  },
  {
   "cell_type": "markdown",
   "metadata": {},
   "source": [
    "(So that we can avoid calculating distance every time we change k)"
   ]
  },
  {
   "cell_type": "code",
   "execution_count": 95,
   "metadata": {
    "ExecuteTime": {
     "end_time": "2019-09-09T23:33:23.340873Z",
     "start_time": "2019-09-09T23:33:23.330898Z"
    }
   },
   "outputs": [],
   "source": [
    "# Parameter k is now a list of values\n",
    "\n",
    "# Distance function remains same\n",
    "\n",
    "# For each k in k_values return majority label\n",
    "def knn_batch_k(X_train, y_train, test_sample, k_values):\n",
    "    arr = []\n",
    "    for i in range(len(X_train)):\n",
    "        arr.append((distance(X_train[i],test_sample),y_train[i]))\n",
    "    arr.sort()\n",
    "    ans = []\n",
    "    for i in range(len(k_values)):\n",
    "        freq = [0,0,0,0,0,0,0,0,0,0]\n",
    "        for j in range(k_values[i]):\n",
    "            freq[arr[j][1]] = freq[arr[j][1]] + 1\n",
    "        ans.append(freq.index(max(freq)))\n",
    "    return ans\n",
    "# Return class of each test sample predicted by knn for each k in k_values\n",
    "def predict_batch_k(X_train, y_train, X_test, k_values=np.arange(2,10)):\n",
    "    fans = []\n",
    "    for i in range(len(X_test)):\n",
    "        fans.append(knn_batch_k(X_train, y_train, X_test[i], k_values))\n",
    "    return fans"
   ]
  },
  {
   "cell_type": "markdown",
   "metadata": {},
   "source": [
    "### Get results for k=[2,3,4,5,6,7,8,9]"
   ]
  },
  {
   "cell_type": "code",
   "execution_count": 96,
   "metadata": {
    "ExecuteTime": {
     "start_time": "2019-09-09T23:33:16.153Z"
    }
   },
   "outputs": [],
   "source": [
    "k_values = np.arange(2,10)\n",
    "y_pred = predict_batch_k(X_train.values, y_train.values, X_test.values, k_values=np.arange(2,10))"
   ]
  },
  {
   "cell_type": "markdown",
   "metadata": {},
   "source": [
    "### Evaluate results"
   ]
  },
  {
   "cell_type": "code",
   "execution_count": 97,
   "metadata": {},
   "outputs": [],
   "source": [
    "# Change this code according to your output format"
   ]
  },
  {
   "cell_type": "code",
   "execution_count": 98,
   "metadata": {
    "ExecuteTime": {
     "start_time": "2019-09-09T23:33:16.156Z"
    }
   },
   "outputs": [
    {
     "data": {
      "text/plain": [
       "array([[1, 9, 7, 7, 4, 3, 3, 4, 6, 0, 1, 1, 4, 3, 4, 3, 6, 1, 9, 0, 1, 1,\n",
       "        2, 3, 2, 1, 1, 1, 1, 0, 1, 3, 2, 4, 4, 7, 4, 3, 2, 9, 0, 1, 1, 2,\n",
       "        7, 2, 0, 2, 9, 3],\n",
       "       [1, 9, 9, 7, 4, 3, 3, 9, 6, 0, 1, 1, 4, 3, 4, 2, 1, 1, 9, 0, 1, 1,\n",
       "        2, 3, 2, 1, 1, 1, 1, 0, 1, 2, 1, 4, 4, 7, 9, 1, 2, 9, 0, 1, 1, 4,\n",
       "        2, 2, 0, 2, 9, 3],\n",
       "       [1, 9, 9, 7, 4, 3, 1, 9, 6, 0, 1, 1, 4, 3, 4, 2, 1, 1, 9, 0, 1, 1,\n",
       "        8, 3, 1, 1, 1, 1, 1, 0, 1, 0, 2, 4, 9, 7, 4, 3, 2, 9, 0, 1, 1, 4,\n",
       "        2, 2, 0, 0, 9, 3],\n",
       "       [1, 9, 9, 7, 4, 0, 1, 9, 6, 0, 1, 1, 4, 3, 9, 8, 1, 1, 9, 0, 1, 1,\n",
       "        8, 3, 1, 1, 1, 1, 1, 0, 0, 2, 2, 4, 9, 1, 4, 1, 2, 9, 0, 1, 1, 4,\n",
       "        9, 0, 0, 2, 9, 3],\n",
       "       [1, 9, 9, 7, 4, 0, 1, 9, 6, 0, 1, 1, 4, 3, 9, 5, 1, 1, 9, 0, 1, 1,\n",
       "        7, 3, 1, 1, 1, 1, 1, 0, 7, 0, 2, 4, 9, 1, 4, 1, 2, 9, 3, 1, 1, 4,\n",
       "        9, 2, 0, 0, 9, 3],\n",
       "       [1, 9, 9, 7, 4, 0, 1, 9, 6, 0, 1, 1, 4, 3, 9, 3, 1, 1, 9, 0, 1, 1,\n",
       "        7, 0, 1, 1, 1, 1, 1, 0, 1, 0, 2, 4, 9, 1, 9, 1, 2, 9, 3, 1, 1, 4,\n",
       "        9, 0, 3, 2, 9, 3],\n",
       "       [1, 9, 9, 7, 4, 1, 1, 9, 6, 0, 1, 1, 9, 3, 9, 2, 1, 1, 9, 0, 1, 1,\n",
       "        2, 0, 1, 1, 1, 1, 1, 0, 1, 0, 2, 4, 9, 1, 4, 1, 2, 9, 3, 1, 1, 4,\n",
       "        9, 0, 3, 2, 9, 3],\n",
       "       [1, 9, 9, 1, 4, 1, 1, 1, 6, 0, 1, 1, 4, 3, 9, 2, 1, 1, 9, 0, 1, 1,\n",
       "        2, 3, 1, 1, 1, 1, 1, 0, 1, 0, 2, 4, 9, 1, 4, 1, 1, 9, 3, 1, 1, 4,\n",
       "        9, 0, 3, 2, 9, 3]])"
      ]
     },
     "execution_count": 98,
     "metadata": {},
     "output_type": "execute_result"
    }
   ],
   "source": [
    "y_pred = np.asarray(y_pred)\n",
    "y_pred = y_pred.T\n",
    "y_pred"
   ]
  },
  {
   "cell_type": "code",
   "execution_count": 99,
   "metadata": {
    "ExecuteTime": {
     "start_time": "2019-09-09T23:33:16.159Z"
    }
   },
   "outputs": [
    {
     "name": "stdout",
     "output_type": "stream",
     "text": [
      "2 : 0.48\n",
      "3 : 0.48\n",
      "4 : 0.48\n",
      "5 : 0.42\n",
      "6 : 0.46\n",
      "7 : 0.44\n",
      "8 : 0.48\n",
      "9 : 0.4\n"
     ]
    }
   ],
   "source": [
    "itr = 0\n",
    "for k in k_values:\n",
    "    print(k,':',accuracy_score(y_test, y_pred[itr]))\n",
    "    itr+=1"
   ]
  },
  {
   "cell_type": "code",
   "execution_count": null,
   "metadata": {},
   "outputs": [],
   "source": []
  }
 ],
 "metadata": {
  "kernelspec": {
   "display_name": "Python 3",
   "language": "python",
   "name": "python3"
  },
  "language_info": {
   "codemirror_mode": {
    "name": "ipython",
    "version": 3
   },
   "file_extension": ".py",
   "mimetype": "text/x-python",
   "name": "python",
   "nbconvert_exporter": "python",
   "pygments_lexer": "ipython3",
   "version": "3.7.3"
  },
  "toc": {
   "base_numbering": 1,
   "nav_menu": {},
   "number_sections": true,
   "sideBar": true,
   "skip_h1_title": false,
   "title_cell": "Table of Contents",
   "title_sidebar": "Contents",
   "toc_cell": false,
   "toc_position": {},
   "toc_section_display": true,
   "toc_window_display": false
  },
  "varInspector": {
   "cols": {
    "lenName": 16,
    "lenType": 16,
    "lenVar": 40
   },
   "kernels_config": {
    "python": {
     "delete_cmd_postfix": "",
     "delete_cmd_prefix": "del ",
     "library": "var_list.py",
     "varRefreshCmd": "print(var_dic_list())"
    },
    "r": {
     "delete_cmd_postfix": ") ",
     "delete_cmd_prefix": "rm(",
     "library": "var_list.r",
     "varRefreshCmd": "cat(var_dic_list()) "
    }
   },
   "types_to_exclude": [
    "module",
    "function",
    "builtin_function_or_method",
    "instance",
    "_Feature"
   ],
   "window_display": false
  }
 },
 "nbformat": 4,
 "nbformat_minor": 2
}
